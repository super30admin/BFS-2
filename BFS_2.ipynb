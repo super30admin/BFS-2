{
  "nbformat": 4,
  "nbformat_minor": 0,
  "metadata": {
    "colab": {
      "name": "BFS-2.ipynb",
      "provenance": []
    },
    "kernelspec": {
      "name": "python3",
      "display_name": "Python 3"
    },
    "language_info": {
      "name": "python"
    }
  },
  "cells": [
    {
      "cell_type": "markdown",
      "source": [
        "Rotten Oranges"
      ],
      "metadata": {
        "id": "JyH0Orc5rq0i"
      }
    },
    {
      "cell_type": "code",
      "execution_count": null,
      "metadata": {
        "colab": {
          "base_uri": "https://localhost:8080/"
        },
        "id": "E-De8a6ZrnvY",
        "outputId": "881f6905-fad9-407c-c520-b9b4bf8155e9"
      },
      "outputs": [
        {
          "output_type": "stream",
          "name": "stdout",
          "text": [
            "4\n"
          ]
        }
      ],
      "source": [
        "class Solution(object):\n",
        "    def orangesRotting(self, grid):\n",
        "        \"\"\"\n",
        "        :type grid: List[List[int]]\n",
        "        :rtype: int\n",
        "        \"\"\"\n",
        "        n = len(grid)\n",
        "        m = len(grid[0])\n",
        "        directions = [[1,0] , [0,1], [-1,0], [0,-1]]\n",
        "        fresh_oranges_count = 0\n",
        "        queue = []\n",
        "        time = 0\n",
        "        for i in range(n):\n",
        "            for j in range(m):\n",
        "                if grid[i][j] == 1:\n",
        "                    fresh_oranges_count += 1\n",
        "                elif grid[i][j] == 2:\n",
        "                    queue.append([i,j])\n",
        "        \n",
        "        while len(queue) != 0:\n",
        "            length = len(queue)\n",
        "            for i in range(length):\n",
        "                coordinates = queue.pop(0)\n",
        "                for direction in directions:\n",
        "                    row = coordinates[0] + direction[0]\n",
        "                    column = coordinates[1] + direction[1]\n",
        "                    if row >= 0 and row < n and column >= 0 and column < m and grid[row][column] == 1:\n",
        "                        grid[row][column] = 2\n",
        "                        fresh_oranges_count -= 1\n",
        "                        queue.append([row,column])\n",
        "            time += 1\n",
        "        if fresh_oranges_count != 0:\n",
        "            return -1\n",
        "        return time - 1\n",
        "                \n",
        "            \n",
        "grid = Solution()          \n",
        "    \n",
        "print(grid.orangesRotting([[2,1,2,0],[1,0,1,0],[1,1,1,0],[0,0,1,1]]))      "
      ]
    },
    {
      "cell_type": "markdown",
      "source": [
        "Employee Importance"
      ],
      "metadata": {
        "id": "9db77-cvsT9A"
      }
    },
    {
      "cell_type": "markdown",
      "source": [
        "BFS"
      ],
      "metadata": {
        "id": "-UddFiQrsWEM"
      }
    },
    {
      "cell_type": "code",
      "source": [
        "\n",
        "# Definition for Employee.\n",
        "class Employee(object):\n",
        "    def __init__(self, id, importance, subordinates):\n",
        "  \n",
        "        self.id = id\n",
        "        self.importance = importance\n",
        "        self.subordinates = subordinates\n",
        "class Solution(object):\n",
        "    def getImportance(self, employees, id):\n",
        "        \"\"\"\n",
        "        :type employees: List[Employee]\n",
        "        :type id: int\n",
        "        :rtype: int\n",
        "         \"\"\"\n",
        "        total_importance = 0\n",
        "        employee = {}\n",
        "        for emp in employees:\n",
        "            employee[emp.id] = emp\n",
        "        queue = []\n",
        "        queue.append(employee[id])\n",
        "        while len(queue) != 0:\n",
        "            emp = queue.pop(0)\n",
        "            total_importance += emp.importance\n",
        "            for sub in emp.subordinates:\n",
        "                queue.append(employee[sub])\n",
        "        return total_importance\n",
        "            \n",
        "       \n",
        "emp1 = Employee(1,5,[2,3])   \n",
        "emp2 = Employee(2,3,[])   \n",
        "emp3 = Employee(3,3,[])     \n",
        "imp = Solution()\n",
        "print(imp.getImportance([emp1,emp2,emp3],1))"
      ],
      "metadata": {
        "colab": {
          "base_uri": "https://localhost:8080/"
        },
        "id": "bQwbaRnAsQV6",
        "outputId": "85997952-19ab-43c1-ac89-313817c19615"
      },
      "execution_count": null,
      "outputs": [
        {
          "output_type": "stream",
          "name": "stdout",
          "text": [
            "11\n"
          ]
        }
      ]
    },
    {
      "cell_type": "markdown",
      "source": [
        "DFS"
      ],
      "metadata": {
        "id": "7P3Ca7_2DUby"
      }
    },
    {
      "cell_type": "code",
      "source": [
        "\n",
        "# Definition for Employee.\n",
        "class Employee(object):\n",
        "    def __init__(self, id, importance, subordinates):\n",
        "  \n",
        "        self.id = id\n",
        "        self.importance = importance\n",
        "        self.subordinates = subordinates\n",
        "\n",
        "class Solution(object):\n",
        "    def getImportance(self, employees, id):\n",
        "        \"\"\"\n",
        "        :type employees: List[Employee]\n",
        "        :type id: int\n",
        "        :rtype: int\n",
        "        \"\"\"\n",
        "        global employee, importance\n",
        "        importance = [0]\n",
        "        employee = {}\n",
        "        for emp in employees:\n",
        "            employee[emp.id] = emp\n",
        "        self.totalImportance(id)\n",
        "        return importance[0]\n",
        "    def totalImportance(self,emp_id):\n",
        "        importance[0] += employee[emp_id].importance\n",
        "        for sub in employee[emp_id].subordinates:\n",
        "            self.totalImportance(sub)\n",
        "       \n",
        "emp1 = Employee(1,5,[2,3])   \n",
        "emp2 = Employee(2,3,[])   \n",
        "emp3 = Employee(3,3,[])     \n",
        "imp = Solution()\n",
        "print(imp.getImportance([emp1,emp2,emp3],1))\n",
        "\n",
        "        \n",
        "                \n",
        "                    \n",
        "                \n",
        "            "
      ],
      "metadata": {
        "colab": {
          "base_uri": "https://localhost:8080/"
        },
        "id": "s-6EMO8kDUCs",
        "outputId": "72c9e8c7-a99e-481d-a49f-8e9960df6064"
      },
      "execution_count": null,
      "outputs": [
        {
          "output_type": "stream",
          "name": "stdout",
          "text": [
            "11\n"
          ]
        }
      ]
    },
    {
      "cell_type": "code",
      "source": [
        "s = 'hello world'\n",
        "print(s[:1:-3])"
      ],
      "metadata": {
        "colab": {
          "base_uri": "https://localhost:8080/"
        },
        "id": "LxTYppGt95hA",
        "outputId": "56c6feb0-08c5-4173-fa12-356eb606c2b9"
      },
      "execution_count": null,
      "outputs": [
        {
          "output_type": "stream",
          "name": "stdout",
          "text": [
            "doo\n"
          ]
        }
      ]
    }
  ]
}